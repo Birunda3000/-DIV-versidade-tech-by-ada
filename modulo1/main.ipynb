{
 "cells": [
  {
   "cell_type": "code",
   "execution_count": 1,
   "metadata": {},
   "outputs": [
    {
     "name": "stdout",
     "output_type": "stream",
     "text": [
      "\n",
      "    ==================\n",
      "    ===Python loans===\n",
      "    ==================\n",
      "\n",
      "    1) Register loan\n",
      "    2) Consult extract\n",
      "    3) Ordinary payment\n",
      "    4) Extraordinary amortization\n",
      "    5) Exit\n",
      "    ==================\n",
      "\n",
      "            \n",
      "Invalid option\n",
      "\n",
      "    ==================\n",
      "    ===Python loans===\n",
      "    ==================\n",
      "\n",
      "    1) Register loan\n",
      "    2) Consult extract\n",
      "    3) Ordinary payment\n",
      "    4) Extraordinary amortization\n",
      "    5) Exit\n",
      "    ==================\n",
      "\n",
      "            \n",
      "Invalid option\n",
      "\n",
      "    ==================\n",
      "    ===Python loans===\n",
      "    ==================\n",
      "\n",
      "    1) Register loan\n",
      "    2) Consult extract\n",
      "    3) Ordinary payment\n",
      "    4) Extraordinary amortization\n",
      "    5) Exit\n",
      "    ==================\n",
      "\n",
      "            \n"
     ]
    }
   ],
   "source": [
    "import menu\n",
    "import storage\n",
    "\n",
    "db = storage.Storage()\n",
    "me = menu.Menu()\n",
    "me.run(db)"
   ]
  }
 ],
 "metadata": {
  "kernelspec": {
   "display_name": "Python 3.10.5 64-bit",
   "language": "python",
   "name": "python3"
  },
  "language_info": {
   "codemirror_mode": {
    "name": "ipython",
    "version": 3
   },
   "file_extension": ".py",
   "mimetype": "text/x-python",
   "name": "python",
   "nbconvert_exporter": "python",
   "pygments_lexer": "ipython3",
   "version": "3.10.5"
  },
  "orig_nbformat": 4,
  "vscode": {
   "interpreter": {
    "hash": "e8f289ed4af1da0c4e61646045df94df96cc4dee61a8bdfbad05a49f4d286522"
   }
  }
 },
 "nbformat": 4,
 "nbformat_minor": 2
}
